{
 "cells": [
  {
   "metadata": {
    "ExecuteTime": {
     "end_time": "2025-02-24T21:00:25.800315Z",
     "start_time": "2025-02-24T21:00:25.768211Z"
    }
   },
   "cell_type": "code",
   "source": [
    "import random\n",
    "import matplotlib\n",
    "\n",
    "matplotlib.use('TkAgg')  # Use TkAgg instead of InterAgg\n",
    "import pandas as pd\n",
    "import numpy as np\n",
    "from random import randint\n",
    "from random import choices\n",
    "import matplotlib.pyplot as plt\n",
    "\n",
    "# initial conditions\n",
    "\n",
    "population = 25\n",
    "\n",
    "knapsack = pd.DataFrame([[300, 1200],\n",
    "                         [150, 160],\n",
    "                         [85, 350],\n",
    "                         [105, 433],\n",
    "                         [30, 192]],\n",
    "                        columns=[\"weight\", \"value\"])\n",
    "\n",
    "gene_length = len(knapsack)\n",
    "\n",
    "\n",
    "# initialize\n",
    "\n",
    "def populate(pop_size):\n",
    "    def decorator(func):\n",
    "        def wrapper(*args, **kwargs):\n",
    "            generation = [func(*args, **kwargs) for i in range(pop_size)]\n",
    "            return generation\n",
    "\n",
    "        return wrapper\n",
    "\n",
    "    return decorator\n",
    "\n",
    "\n",
    "@populate(population)\n",
    "def generate_population(length):\n",
    "    return choices([0, 1], k=length)\n",
    "\n",
    "\n",
    "generation = generate_population(gene_length)\n",
    "print(generation)\n"
   ],
   "id": "847479d15b278c7f",
   "execution_count": 1029,
   "outputs": []
  },
  {
   "metadata": {},
   "cell_type": "code",
   "execution_count": 496,
   "source": [
    "\n",
    "\n",
    "def evaluate_genome(dataframe, genome):\n",
    "    genome = np.array(genome).astype(bool)\n",
    "    weight = dataframe[genome][\"weight\"].sum()\n",
    "    value = dataframe[genome][\"value\"].sum()\n",
    "    return weight, value\n",
    "\n",
    "def fitness(dataframe, batch, weight_limit):\n",
    "    fit_generation = {\"genome\": [], \"weight\": [], \"value\": [], \"fitness\": []}\n",
    "    for genome in batch:\n",
    "        [weight, value] = evaluate_genome(dataframe, genome)\n",
    "        if weight > weight_limit or weight == 0:\n",
    "            fitness_score = 0\n",
    "        else:\n",
    "            fitness_score = 1\n",
    "        fit_generation[\"genome\"].append(genome)\n",
    "        fit_generation[\"weight\"].append(weight)\n",
    "        fit_generation[\"value\"].append(value)\n",
    "        fit_generation[\"fitness\"].append(fitness_score)\n",
    "\n",
    "    return pd.DataFrame(fit_generation)\n",
    "\n",
    "def single_point_crossover(genome):\n",
    "    random.randint(0,gene_length-1)\n",
    "\n",
    "\n",
    "\n",
    "\n",
    "generation = fitness(knapsack, generation, 450)\n",
    "# print(batch[batch[fitness]==1])\n",
    "\n",
    "filtered_df = generation[generation[\"fitness\"] == 1]\n",
    "filtered_df.sort_values(\"value\", ascending=False)\n",
    "\n",
    "plt.plot(filtered_df[\"value\"], filtered_df[\"weight\"])\n",
    "\n",
    "print(filtered_df)\n"
   ],
   "id": "eae5501b0680717f",
   "outputs": []
  },
  {
   "metadata": {
    "ExecuteTime": {
     "end_time": "2025-02-22T05:54:53.042198Z",
     "start_time": "2025-02-22T05:54:53.003500Z"
    }
   },
   "cell_type": "code",
   "source": [
    "# print(gen)\n",
    "print(f\"sack: {knapsack}\")\n",
    "print(f\"gen: {gen[0]}\")\n",
    "items = [knapsack[slice_location][\"weight\"] for slice_location in range(len(gen[0])) if gen[0][slice_location] == 1]\n",
    "print(f\"items: {items}\")\n",
    "# surivors = [gen.pop(i) for i in range(population) if kill[i] == 1]\n",
    "# print(kill)\n",
    "# print(surivors)\n",
    "# items = [knapsack[slice_location][0] for slice_location in range(len(gen[0])) if gen[0][slice_location] == 1]\n",
    "# item_weight = sum(items)\n",
    "\n",
    "\n",
    "    "
   ],
   "id": "38b227b7c0142da3",
   "execution_count": 299,
   "outputs": []
  },
  {
   "metadata": {
    "ExecuteTime": {
     "end_time": "2025-02-22T06:20:51.743073Z",
     "start_time": "2025-02-22T06:20:51.736517Z"
    }
   },
   "cell_type": "code",
   "source": [
    "print(knapsack[[True, False, False, True, True]])\n",
    "\n",
    "genome = np.array([0, 1, 0, 1, 1]).astype(bool)\n",
    "\n",
    "weight = knapsack[genome][\"weight\"].sum()\n",
    "value = knapsack[genome][\"value\"].sum()\n",
    "print(genome)\n",
    "print(knapsack[genome])\n",
    "print(f\"weight: {weight} value: {value}\")\n"
   ],
   "id": "5464ab91fe3a8d6a",
   "execution_count": 399,
   "outputs": []
  },
  {
   "metadata": {
    "ExecuteTime": {
     "end_time": "2025-02-24T16:16:49.551521Z",
     "start_time": "2025-02-24T16:16:49.547465Z"
    }
   },
   "cell_type": "code",
   "source": [
    "a = [\"A0\", \"A1\", \"A0\", \"A1\", \"A1\"]\n",
    "b = [\"B1\", \"B0\", \"B0\", \"B1\", \"B0\"]\n",
    "slice_location = random.randint(1,gene_length-1)\n",
    "print(gene_length)\n",
    "print(slice_location)\n",
    "print(a[slice_location])\n",
    "slice_a_1 = a[:slice_location]\n",
    "slice_a_2 = a[slice_location:]\n",
    "slice_b_1 = b[:slice_location]\n",
    "slice_b_2 = b[slice_location:]\n",
    "a_new = slice_a_1 + slice_b_2\n",
    "b_new = slice_b_1 + slice_a_2\n",
    "print(a_new)\n",
    "print(b_new)\n",
    "# print(gene_length)\n",
    "# print(slice_location)"
   ],
   "id": "b79ad6a09f19fede",
   "execution_count": 780,
   "outputs": []
  },
  {
   "metadata": {
    "ExecuteTime": {
     "end_time": "2025-02-24T16:36:05.405021Z",
     "start_time": "2025-02-24T16:36:05.398645Z"
    }
   },
   "cell_type": "code",
   "source": [
    "A = [0, 1, 1, 1, 0]\n",
    "\n",
    "# mutate_roll = random.randint(99,100)\n",
    "# print(mutate_roll)\n",
    "def mutate(genome):\n",
    "    genome_length = len(genome)\n",
    "    mutate_roll = random.randint(1,100)\n",
    "    if mutate_roll < 70:\n",
    "        mutate_index = random.randint(0, genome_length - 1)\n",
    "        if genome[mutate_index] == 0:\n",
    "            genome[mutate_index] = 1\n",
    "            return genome\n",
    "        else: \n",
    "            genome[mutate_index] = 0\n",
    "            return genome\n",
    "    else:\n",
    "        return genome\n",
    "    \n",
    "    \n",
    "# mutate([0, 1, 1, 1, 0])\n",
    "# print(f\"A: {A}\")\n",
    "print(mutate(A))"
   ],
   "id": "a41e48a644c46d3e",
   "execution_count": 947,
   "outputs": []
  },
  {
   "metadata": {
    "ExecuteTime": {
     "end_time": "2025-02-24T18:12:35.667416Z",
     "start_time": "2025-02-24T18:12:35.636791Z"
    }
   },
   "cell_type": "code",
   "source": [
    "print(filtered_df.reset_index(drop=True))\n",
    "print(f\"length: {len(filtered_df)}\")"
   ],
   "id": "4cf2961858f903b0",
   "execution_count": 953,
   "outputs": []
  },
  {
   "metadata": {
    "ExecuteTime": {
     "end_time": "2025-02-24T19:28:24.058369Z",
     "start_time": "2025-02-24T19:28:24.040352Z"
    }
   },
   "cell_type": "code",
   "source": [
    "probablility = [0] * (len(filtered_df))\n",
    "probablility_total = [0] * (len(filtered_df))\n",
    "\n",
    "\n",
    "sum_values = filtered_df.value.values.sum()\n",
    "for i in filtered_df.index:\n",
    "    # print(i)\n",
    "    probablility[i] = round(float(filtered_df.value[i] / sum_values),3)\n",
    "    probablility_total[i] = round(float(sum(probablility)),4)\n",
    "# print(f\"{probablility_total}\")\n",
    "r1 = 1\n",
    "r2 = 1\n",
    "while r1 == r2:\n",
    "    r1 = randint(1, 100) / 100\n",
    "    r2 = randint(1, 100) / 100\n",
    "    print(r1, r2)\n",
    "    last_index = 0\n",
    "# for n,i in enumerate(probablility_total):\n",
    "#     if i > r1 in\n",
    "wheel = [0].append(probablility_total)\n",
    "# for n,i in enumerate(probablility_total):\n",
    "#     print(n)\n"
   ],
   "id": "f3e824f4db0c1781",
   "execution_count": 957,
   "outputs": []
  },
  {
   "metadata": {
    "ExecuteTime": {
     "end_time": "2025-02-24T20:50:02.870521Z",
     "start_time": "2025-02-24T20:50:02.866185Z"
    }
   },
   "cell_type": "code",
   "source": [
    "def single_point_crossover(parents: dict):\n",
    "    genome_1, genome_2 = parents\n",
    "    if len(genome_1) != len(genome_2):\n",
    "        raise ValueError(\"Length of genomes do not match\")\n",
    "    genome_length = len(genome_1)\n",
    "    slice_location = random.randint(1, genome_length - 1)\n",
    "    slice_a_1 = genome_1[:slice_location]\n",
    "    slice_a_2 = genome_1[slice_location:]\n",
    "    slice_b_1 = genome_2[:slice_location]\n",
    "    slice_b_2 = genome_2[slice_location:]\n",
    "    genome_1_new = slice_a_1 + slice_b_2\n",
    "    genome_2_new = slice_b_1 + slice_a_2\n",
    "    return genome_1_new, genome_2_new\n",
    "parents = ([0, 0, 0, 1, 1], [1, 0, 0, 1, 0])\n",
    "# single_point_crossover(parents)/\n",
    "print(single_point_crossover(parents))"
   ],
   "id": "2d1c53ca2c493858",
   "execution_count": 1028,
   "outputs": []
  },
  {
   "metadata": {
    "ExecuteTime": {
     "end_time": "2025-02-24T20:39:44.220406Z",
     "start_time": "2025-02-24T20:39:44.216362Z"
    }
   },
   "cell_type": "code",
   "source": "",
   "id": "f33ca38895dcdf1",
   "execution_count": 965,
   "outputs": []
  }
 ],
 "metadata": {
  "kernelspec": {
   "display_name": "Python 3",
   "language": "python",
   "name": "python3"
  },
  "language_info": {
   "codemirror_mode": {
    "name": "ipython",
    "version": 2
   },
   "file_extension": ".py",
   "mimetype": "text/x-python",
   "name": "python",
   "nbconvert_exporter": "python",
   "pygments_lexer": "ipython2",
   "version": "2.7.6"
  }
 },
 "nbformat": 4,
 "nbformat_minor": 5
}
