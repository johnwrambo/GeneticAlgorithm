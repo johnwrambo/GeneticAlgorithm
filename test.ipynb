{
 "cells": [
  {
   "metadata": {
    "ExecuteTime": {
     "end_time": "2025-02-24T21:00:25.800315Z",
     "start_time": "2025-02-24T21:00:25.768211Z"
    }
   },
   "cell_type": "code",
   "source": [
    "import random\n",
    "import matplotlib\n",
    "\n",
    "matplotlib.use('TkAgg')  # Use TkAgg instead of InterAgg\n",
    "import pandas as pd\n",
    "import numpy as np\n",
    "from random import randint\n",
    "from random import choices\n",
    "import matplotlib.pyplot as plt\n",
    "\n",
    "# initial conditions\n",
    "\n",
    "population = 25\n",
    "\n",
    "knapsack = pd.DataFrame([[300, 1200],\n",
    "                         [150, 160],\n",
    "                         [85, 350],\n",
    "                         [105, 433],\n",
    "                         [30, 192]],\n",
    "                        columns=[\"weight\", \"value\"])\n",
    "\n",
    "gene_length = len(knapsack)\n",
    "\n",
    "\n",
    "# initialize\n",
    "\n",
    "def populate(pop_size):\n",
    "    def decorator(func):\n",
    "        def wrapper(*args, **kwargs):\n",
    "            generation = [func(*args, **kwargs) for i in range(pop_size)]\n",
    "            return generation\n",
    "\n",
    "        return wrapper\n",
    "\n",
    "    return decorator\n",
    "\n",
    "\n",
    "@populate(population)\n",
    "def generate_population(length):\n",
    "    return choices([0, 1], k=length)\n",
    "\n",
    "\n",
    "generation = generate_population(gene_length)\n",
    "print(generation)\n"
   ],
   "id": "847479d15b278c7f",
   "outputs": [
    {
     "name": "stdout",
     "output_type": "stream",
     "text": [
      "[[0, 1, 0, 0, 0], [1, 1, 1, 1, 0], [0, 0, 0, 0, 0], [0, 0, 0, 1, 0], [0, 0, 0, 1, 1], [0, 1, 1, 0, 0], [0, 1, 1, 0, 1], [1, 0, 0, 1, 0], [1, 0, 1, 1, 1], [0, 0, 0, 0, 0], [0, 0, 0, 1, 0], [0, 1, 0, 1, 1], [1, 1, 0, 0, 1], [1, 1, 1, 0, 0], [0, 1, 0, 0, 0], [0, 0, 1, 1, 1], [0, 0, 0, 1, 0], [0, 1, 1, 1, 1], [0, 1, 0, 0, 0], [0, 1, 0, 1, 0], [0, 0, 1, 1, 1], [1, 0, 1, 1, 0], [0, 1, 1, 1, 0], [0, 0, 1, 1, 1], [1, 0, 1, 1, 1]]\n"
     ]
    }
   ],
   "execution_count": 1029
  },
  {
   "metadata": {},
   "cell_type": "code",
   "outputs": [
    {
     "name": "stdout",
     "output_type": "stream",
     "text": [
      "             genome  weight  value  fitness\n",
      "0   [0, 0, 0, 1, 1]     135    625        1\n",
      "1   [1, 0, 0, 1, 0]     405   1633        1\n",
      "3   [0, 0, 0, 0, 1]      30    192        1\n",
      "6   [0, 1, 1, 1, 0]     340    943        1\n",
      "7   [0, 1, 0, 0, 1]     180    352        1\n",
      "8   [0, 0, 0, 0, 1]      30    192        1\n",
      "9   [0, 1, 0, 1, 0]     255    593        1\n",
      "11  [1, 0, 0, 0, 0]     300   1200        1\n",
      "12  [0, 0, 0, 1, 1]     135    625        1\n",
      "13  [0, 1, 0, 1, 0]     255    593        1\n",
      "14  [0, 1, 1, 1, 0]     340    943        1\n",
      "15  [0, 0, 0, 1, 1]     135    625        1\n",
      "17  [1, 0, 0, 1, 0]     405   1633        1\n",
      "19  [0, 1, 0, 0, 1]     180    352        1\n",
      "20  [0, 0, 1, 0, 0]      85    350        1\n",
      "22  [0, 0, 0, 0, 1]      30    192        1\n",
      "24  [1, 0, 0, 0, 0]     300   1200        1\n"
     ]
    }
   ],
   "execution_count": 496,
   "source": [
    "\n",
    "\n",
    "def evaluate_genome(dataframe, genome):\n",
    "    genome = np.array(genome).astype(bool)\n",
    "    weight = dataframe[genome][\"weight\"].sum()\n",
    "    value = dataframe[genome][\"value\"].sum()\n",
    "    return weight, value\n",
    "\n",
    "def fitness(dataframe, batch, weight_limit):\n",
    "    fit_generation = {\"genome\": [], \"weight\": [], \"value\": [], \"fitness\": []}\n",
    "    for genome in batch:\n",
    "        [weight, value] = evaluate_genome(dataframe, genome)\n",
    "        if weight > weight_limit or weight == 0:\n",
    "            fitness_score = 0\n",
    "        else:\n",
    "            fitness_score = 1\n",
    "        fit_generation[\"genome\"].append(genome)\n",
    "        fit_generation[\"weight\"].append(weight)\n",
    "        fit_generation[\"value\"].append(value)\n",
    "        fit_generation[\"fitness\"].append(fitness_score)\n",
    "\n",
    "    return pd.DataFrame(fit_generation)\n",
    "\n",
    "def single_point_crossover(genome):\n",
    "    random.randint(0,gene_length-1)\n",
    "\n",
    "\n",
    "\n",
    "\n",
    "generation = fitness(knapsack, generation, 450)\n",
    "# print(batch[batch[fitness]==1])\n",
    "\n",
    "filtered_df = generation[generation[\"fitness\"] == 1]\n",
    "filtered_df.sort_values(\"value\", ascending=False)\n",
    "\n",
    "plt.plot(filtered_df[\"value\"], filtered_df[\"weight\"])\n",
    "\n",
    "print(filtered_df)\n"
   ],
   "id": "eae5501b0680717f"
  },
  {
   "metadata": {
    "ExecuteTime": {
     "end_time": "2025-02-22T05:54:53.042198Z",
     "start_time": "2025-02-22T05:54:53.003500Z"
    }
   },
   "cell_type": "code",
   "source": [
    "# print(gen)\n",
    "print(f\"sack: {knapsack}\")\n",
    "print(f\"gen: {gen[0]}\")\n",
    "items = [knapsack[slice_location][\"weight\"] for slice_location in range(len(gen[0])) if gen[0][slice_location] == 1]\n",
    "print(f\"items: {items}\")\n",
    "# surivors = [gen.pop(i) for i in range(population) if kill[i] == 1]\n",
    "# print(kill)\n",
    "# print(surivors)\n",
    "# items = [knapsack[slice_location][0] for slice_location in range(len(gen[0])) if gen[0][slice_location] == 1]\n",
    "# item_weight = sum(items)\n",
    "\n",
    "\n",
    "    "
   ],
   "id": "38b227b7c0142da3",
   "outputs": [
    {
     "name": "stdout",
     "output_type": "stream",
     "text": [
      "sack:    weight  value\n",
      "0     300   2200\n",
      "1     150    160\n",
      "2      85    350\n",
      "3     105    333\n",
      "4      30    192\n",
      "gen: [0, 1, 0, 1, 1]\n"
     ]
    },
    {
     "ename": "KeyError",
     "evalue": "1",
     "output_type": "error",
     "traceback": [
      "\u001B[1;31m---------------------------------------------------------------------------\u001B[0m",
      "\u001B[1;31mKeyError\u001B[0m                                  Traceback (most recent call last)",
      "File \u001B[1;32m~\\PycharmProjects\\MutateMax\\.venv\\Lib\\site-packages\\pandas\\core\\indexes\\base.py:3805\u001B[0m, in \u001B[0;36mIndex.get_loc\u001B[1;34m(self, key)\u001B[0m\n\u001B[0;32m   3804\u001B[0m \u001B[38;5;28;01mtry\u001B[39;00m:\n\u001B[1;32m-> 3805\u001B[0m     \u001B[38;5;28;01mreturn\u001B[39;00m \u001B[38;5;28;43mself\u001B[39;49m\u001B[38;5;241;43m.\u001B[39;49m\u001B[43m_engine\u001B[49m\u001B[38;5;241;43m.\u001B[39;49m\u001B[43mget_loc\u001B[49m\u001B[43m(\u001B[49m\u001B[43mcasted_key\u001B[49m\u001B[43m)\u001B[49m\n\u001B[0;32m   3806\u001B[0m \u001B[38;5;28;01mexcept\u001B[39;00m \u001B[38;5;167;01mKeyError\u001B[39;00m \u001B[38;5;28;01mas\u001B[39;00m err:\n",
      "File \u001B[1;32mindex.pyx:167\u001B[0m, in \u001B[0;36mpandas._libs.index.IndexEngine.get_loc\u001B[1;34m()\u001B[0m\n",
      "File \u001B[1;32mindex.pyx:196\u001B[0m, in \u001B[0;36mpandas._libs.index.IndexEngine.get_loc\u001B[1;34m()\u001B[0m\n",
      "File \u001B[1;32mpandas\\\\_libs\\\\hashtable_class_helper.pxi:7081\u001B[0m, in \u001B[0;36mpandas._libs.hashtable.PyObjectHashTable.get_item\u001B[1;34m()\u001B[0m\n",
      "File \u001B[1;32mpandas\\\\_libs\\\\hashtable_class_helper.pxi:7089\u001B[0m, in \u001B[0;36mpandas._libs.hashtable.PyObjectHashTable.get_item\u001B[1;34m()\u001B[0m\n",
      "\u001B[1;31mKeyError\u001B[0m: 1",
      "\nThe above exception was the direct cause of the following exception:\n",
      "\u001B[1;31mKeyError\u001B[0m                                  Traceback (most recent call last)",
      "Cell \u001B[1;32mIn[299], line 4\u001B[0m\n\u001B[0;32m      2\u001B[0m \u001B[38;5;28mprint\u001B[39m(\u001B[38;5;124mf\u001B[39m\u001B[38;5;124m\"\u001B[39m\u001B[38;5;124msack: \u001B[39m\u001B[38;5;132;01m{\u001B[39;00mknapsack\u001B[38;5;132;01m}\u001B[39;00m\u001B[38;5;124m\"\u001B[39m)\n\u001B[0;32m      3\u001B[0m \u001B[38;5;28mprint\u001B[39m(\u001B[38;5;124mf\u001B[39m\u001B[38;5;124m\"\u001B[39m\u001B[38;5;124mgen: \u001B[39m\u001B[38;5;132;01m{\u001B[39;00mgen[\u001B[38;5;241m0\u001B[39m]\u001B[38;5;132;01m}\u001B[39;00m\u001B[38;5;124m\"\u001B[39m)\n\u001B[1;32m----> 4\u001B[0m items \u001B[38;5;241m=\u001B[39m [\u001B[43mknapsack\u001B[49m\u001B[43m[\u001B[49m\u001B[43mx\u001B[49m\u001B[43m]\u001B[49m[\u001B[38;5;124m\"\u001B[39m\u001B[38;5;124mweight\u001B[39m\u001B[38;5;124m\"\u001B[39m] \u001B[38;5;28;01mfor\u001B[39;00m x \u001B[38;5;129;01min\u001B[39;00m \u001B[38;5;28mrange\u001B[39m(\u001B[38;5;28mlen\u001B[39m(gen[\u001B[38;5;241m0\u001B[39m])) \u001B[38;5;28;01mif\u001B[39;00m gen[\u001B[38;5;241m0\u001B[39m][x] \u001B[38;5;241m==\u001B[39m \u001B[38;5;241m1\u001B[39m]\n\u001B[0;32m      5\u001B[0m \u001B[38;5;28mprint\u001B[39m(\u001B[38;5;124mf\u001B[39m\u001B[38;5;124m\"\u001B[39m\u001B[38;5;124mitems: \u001B[39m\u001B[38;5;132;01m{\u001B[39;00mitems\u001B[38;5;132;01m}\u001B[39;00m\u001B[38;5;124m\"\u001B[39m)\n\u001B[0;32m      6\u001B[0m \u001B[38;5;66;03m# surivors = [gen.pop(i) for i in range(population) if kill[i] == 1]\u001B[39;00m\n\u001B[0;32m      7\u001B[0m \u001B[38;5;66;03m# print(kill)\u001B[39;00m\n",
      "File \u001B[1;32m~\\PycharmProjects\\MutateMax\\.venv\\Lib\\site-packages\\pandas\\core\\frame.py:4102\u001B[0m, in \u001B[0;36mDataFrame.__getitem__\u001B[1;34m(self, key)\u001B[0m\n\u001B[0;32m   4100\u001B[0m \u001B[38;5;28;01mif\u001B[39;00m \u001B[38;5;28mself\u001B[39m\u001B[38;5;241m.\u001B[39mcolumns\u001B[38;5;241m.\u001B[39mnlevels \u001B[38;5;241m>\u001B[39m \u001B[38;5;241m1\u001B[39m:\n\u001B[0;32m   4101\u001B[0m     \u001B[38;5;28;01mreturn\u001B[39;00m \u001B[38;5;28mself\u001B[39m\u001B[38;5;241m.\u001B[39m_getitem_multilevel(key)\n\u001B[1;32m-> 4102\u001B[0m indexer \u001B[38;5;241m=\u001B[39m \u001B[38;5;28;43mself\u001B[39;49m\u001B[38;5;241;43m.\u001B[39;49m\u001B[43mcolumns\u001B[49m\u001B[38;5;241;43m.\u001B[39;49m\u001B[43mget_loc\u001B[49m\u001B[43m(\u001B[49m\u001B[43mkey\u001B[49m\u001B[43m)\u001B[49m\n\u001B[0;32m   4103\u001B[0m \u001B[38;5;28;01mif\u001B[39;00m is_integer(indexer):\n\u001B[0;32m   4104\u001B[0m     indexer \u001B[38;5;241m=\u001B[39m [indexer]\n",
      "File \u001B[1;32m~\\PycharmProjects\\MutateMax\\.venv\\Lib\\site-packages\\pandas\\core\\indexes\\base.py:3812\u001B[0m, in \u001B[0;36mIndex.get_loc\u001B[1;34m(self, key)\u001B[0m\n\u001B[0;32m   3807\u001B[0m     \u001B[38;5;28;01mif\u001B[39;00m \u001B[38;5;28misinstance\u001B[39m(casted_key, \u001B[38;5;28mslice\u001B[39m) \u001B[38;5;129;01mor\u001B[39;00m (\n\u001B[0;32m   3808\u001B[0m         \u001B[38;5;28misinstance\u001B[39m(casted_key, abc\u001B[38;5;241m.\u001B[39mIterable)\n\u001B[0;32m   3809\u001B[0m         \u001B[38;5;129;01mand\u001B[39;00m \u001B[38;5;28many\u001B[39m(\u001B[38;5;28misinstance\u001B[39m(x, \u001B[38;5;28mslice\u001B[39m) \u001B[38;5;28;01mfor\u001B[39;00m x \u001B[38;5;129;01min\u001B[39;00m casted_key)\n\u001B[0;32m   3810\u001B[0m     ):\n\u001B[0;32m   3811\u001B[0m         \u001B[38;5;28;01mraise\u001B[39;00m InvalidIndexError(key)\n\u001B[1;32m-> 3812\u001B[0m     \u001B[38;5;28;01mraise\u001B[39;00m \u001B[38;5;167;01mKeyError\u001B[39;00m(key) \u001B[38;5;28;01mfrom\u001B[39;00m\u001B[38;5;250m \u001B[39m\u001B[38;5;21;01merr\u001B[39;00m\n\u001B[0;32m   3813\u001B[0m \u001B[38;5;28;01mexcept\u001B[39;00m \u001B[38;5;167;01mTypeError\u001B[39;00m:\n\u001B[0;32m   3814\u001B[0m     \u001B[38;5;66;03m# If we have a listlike key, _check_indexing_error will raise\u001B[39;00m\n\u001B[0;32m   3815\u001B[0m     \u001B[38;5;66;03m#  InvalidIndexError. Otherwise we fall through and re-raise\u001B[39;00m\n\u001B[0;32m   3816\u001B[0m     \u001B[38;5;66;03m#  the TypeError.\u001B[39;00m\n\u001B[0;32m   3817\u001B[0m     \u001B[38;5;28mself\u001B[39m\u001B[38;5;241m.\u001B[39m_check_indexing_error(key)\n",
      "\u001B[1;31mKeyError\u001B[0m: 1"
     ]
    }
   ],
   "execution_count": 299
  },
  {
   "metadata": {
    "ExecuteTime": {
     "end_time": "2025-02-22T06:20:51.743073Z",
     "start_time": "2025-02-22T06:20:51.736517Z"
    }
   },
   "cell_type": "code",
   "source": [
    "print(knapsack[[True, False, False, True, True]])\n",
    "\n",
    "genome = np.array([0, 1, 0, 1, 1]).astype(bool)\n",
    "\n",
    "weight = knapsack[genome][\"weight\"].sum()\n",
    "value = knapsack[genome][\"value\"].sum()\n",
    "print(genome)\n",
    "print(knapsack[genome])\n",
    "print(f\"weight: {weight} value: {value}\")\n"
   ],
   "id": "5464ab91fe3a8d6a",
   "outputs": [
    {
     "name": "stdout",
     "output_type": "stream",
     "text": [
      "   weight  value\n",
      "0     300   1200\n",
      "3     105    433\n",
      "4      30    192\n",
      "[False  True False  True  True]\n",
      "   weight  value\n",
      "1     150    160\n",
      "3     105    433\n",
      "4      30    192\n",
      "weight: 285 value: 785\n"
     ]
    }
   ],
   "execution_count": 399
  },
  {
   "metadata": {
    "ExecuteTime": {
     "end_time": "2025-02-24T16:16:49.551521Z",
     "start_time": "2025-02-24T16:16:49.547465Z"
    }
   },
   "cell_type": "code",
   "source": [
    "a = [\"A0\", \"A1\", \"A0\", \"A1\", \"A1\"]\n",
    "b = [\"B1\", \"B0\", \"B0\", \"B1\", \"B0\"]\n",
    "slice_location = random.randint(1,gene_length-1)\n",
    "print(gene_length)\n",
    "print(slice_location)\n",
    "print(a[slice_location])\n",
    "slice_a_1 = a[:slice_location]\n",
    "slice_a_2 = a[slice_location:]\n",
    "slice_b_1 = b[:slice_location]\n",
    "slice_b_2 = b[slice_location:]\n",
    "a_new = slice_a_1 + slice_b_2\n",
    "b_new = slice_b_1 + slice_a_2\n",
    "print(a_new)\n",
    "print(b_new)\n",
    "# print(gene_length)\n",
    "# print(slice_location)"
   ],
   "id": "b79ad6a09f19fede",
   "outputs": [
    {
     "name": "stdout",
     "output_type": "stream",
     "text": [
      "5\n",
      "4\n",
      "A1\n",
      "['A0', 'A1', 'A0', 'A1', 'B0']\n",
      "['B1', 'B0', 'B0', 'B1', 'A1']\n"
     ]
    }
   ],
   "execution_count": 780
  },
  {
   "metadata": {
    "ExecuteTime": {
     "end_time": "2025-02-24T16:36:05.405021Z",
     "start_time": "2025-02-24T16:36:05.398645Z"
    }
   },
   "cell_type": "code",
   "source": [
    "A = [0, 1, 1, 1, 0]\n",
    "\n",
    "# mutate_roll = random.randint(99,100)\n",
    "# print(mutate_roll)\n",
    "def mutate(genome):\n",
    "    genome_length = len(genome)\n",
    "    mutate_roll = random.randint(1,100)\n",
    "    if mutate_roll < 70:\n",
    "        mutate_index = random.randint(0, genome_length - 1)\n",
    "        if genome[mutate_index] == 0:\n",
    "            genome[mutate_index] = 1\n",
    "            return genome\n",
    "        else: \n",
    "            genome[mutate_index] = 0\n",
    "            return genome\n",
    "    else:\n",
    "        return genome\n",
    "    \n",
    "    \n",
    "# mutate([0, 1, 1, 1, 0])\n",
    "# print(f\"A: {A}\")\n",
    "print(mutate(A))"
   ],
   "id": "a41e48a644c46d3e",
   "outputs": [
    {
     "name": "stdout",
     "output_type": "stream",
     "text": [
      "MUTATED! 1-0\n",
      "[0, 0, 1, 1, 0]\n"
     ]
    }
   ],
   "execution_count": 947
  },
  {
   "metadata": {
    "ExecuteTime": {
     "end_time": "2025-02-24T18:12:35.667416Z",
     "start_time": "2025-02-24T18:12:35.636791Z"
    }
   },
   "cell_type": "code",
   "source": [
    "print(filtered_df.reset_index(drop=True))\n",
    "print(f\"length: {len(filtered_df)}\")"
   ],
   "id": "4cf2961858f903b0",
   "outputs": [
    {
     "name": "stdout",
     "output_type": "stream",
     "text": [
      "             genome  weight  value  fitness\n",
      "0   [0, 0, 0, 1, 1]     135    625        1\n",
      "1   [1, 0, 0, 1, 0]     405   1633        1\n",
      "2   [0, 0, 0, 0, 1]      30    192        1\n",
      "3   [0, 1, 1, 1, 0]     340    943        1\n",
      "4   [0, 1, 0, 0, 1]     180    352        1\n",
      "5   [0, 0, 0, 0, 1]      30    192        1\n",
      "6   [0, 1, 0, 1, 0]     255    593        1\n",
      "7   [1, 0, 0, 0, 0]     300   1200        1\n",
      "8   [0, 0, 0, 1, 1]     135    625        1\n",
      "9   [0, 1, 0, 1, 0]     255    593        1\n",
      "10  [0, 1, 1, 1, 0]     340    943        1\n",
      "11  [0, 0, 0, 1, 1]     135    625        1\n",
      "12  [1, 0, 0, 1, 0]     405   1633        1\n",
      "13  [0, 1, 0, 0, 1]     180    352        1\n",
      "14  [0, 0, 1, 0, 0]      85    350        1\n",
      "15  [0, 0, 0, 0, 1]      30    192        1\n",
      "16  [1, 0, 0, 0, 0]     300   1200        1\n",
      "length: 17\n"
     ]
    }
   ],
   "execution_count": 953
  },
  {
   "metadata": {
    "ExecuteTime": {
     "end_time": "2025-02-24T19:28:24.058369Z",
     "start_time": "2025-02-24T19:28:24.040352Z"
    }
   },
   "cell_type": "code",
   "source": [
    "probablility = [0] * (len(filtered_df))\n",
    "probablility_total = [0] * (len(filtered_df))\n",
    "\n",
    "\n",
    "sum_values = filtered_df.value.values.sum()\n",
    "for i in filtered_df.index:\n",
    "    # print(i)\n",
    "    probablility[i] = round(float(filtered_df.value[i] / sum_values),3)\n",
    "    probablility_total[i] = round(float(sum(probablility)),4)\n",
    "# print(f\"{probablility_total}\")\n",
    "r1 = 1\n",
    "r2 = 1\n",
    "while r1 == r2:\n",
    "    r1 = randint(1, 100) / 100\n",
    "    r2 = randint(1, 100) / 100\n",
    "    print(r1, r2)\n",
    "    last_index = 0\n",
    "# for n,i in enumerate(probablility_total):\n",
    "#     if i > r1 in\n",
    "wheel = [0].append(probablility_total)\n",
    "# for n,i in enumerate(probablility_total):\n",
    "#     print(n)\n"
   ],
   "id": "f3e824f4db0c1781",
   "outputs": [
    {
     "ename": "IndexError",
     "evalue": "list assignment index out of range",
     "output_type": "error",
     "traceback": [
      "\u001B[1;31m---------------------------------------------------------------------------\u001B[0m",
      "\u001B[1;31mIndexError\u001B[0m                                Traceback (most recent call last)",
      "Cell \u001B[1;32mIn[957], line 8\u001B[0m\n\u001B[0;32m      5\u001B[0m sum_values \u001B[38;5;241m=\u001B[39m filtered_df\u001B[38;5;241m.\u001B[39mvalue\u001B[38;5;241m.\u001B[39mvalues\u001B[38;5;241m.\u001B[39msum()\n\u001B[0;32m      6\u001B[0m \u001B[38;5;28;01mfor\u001B[39;00m i \u001B[38;5;129;01min\u001B[39;00m filtered_df\u001B[38;5;241m.\u001B[39mindex:\n\u001B[0;32m      7\u001B[0m     \u001B[38;5;66;03m# print(i)\u001B[39;00m\n\u001B[1;32m----> 8\u001B[0m     \u001B[43mprobablility\u001B[49m\u001B[43m[\u001B[49m\u001B[43mi\u001B[49m\u001B[43m]\u001B[49m \u001B[38;5;241m=\u001B[39m \u001B[38;5;28mround\u001B[39m(\u001B[38;5;28mfloat\u001B[39m(filtered_df\u001B[38;5;241m.\u001B[39mvalue[i] \u001B[38;5;241m/\u001B[39m sum_values),\u001B[38;5;241m3\u001B[39m)\n\u001B[0;32m      9\u001B[0m     probablility_total[i] \u001B[38;5;241m=\u001B[39m \u001B[38;5;28mround\u001B[39m(\u001B[38;5;28mfloat\u001B[39m(\u001B[38;5;28msum\u001B[39m(probablility)),\u001B[38;5;241m4\u001B[39m)\n\u001B[0;32m     10\u001B[0m \u001B[38;5;66;03m# print(f\"{probablility_total}\")\u001B[39;00m\n",
      "\u001B[1;31mIndexError\u001B[0m: list assignment index out of range"
     ]
    }
   ],
   "execution_count": 957
  },
  {
   "metadata": {
    "ExecuteTime": {
     "end_time": "2025-02-24T20:50:02.870521Z",
     "start_time": "2025-02-24T20:50:02.866185Z"
    }
   },
   "cell_type": "code",
   "source": [
    "def single_point_crossover(parents: dict):\n",
    "    genome_1, genome_2 = parents\n",
    "    if len(genome_1) != len(genome_2):\n",
    "        raise ValueError(\"Length of genomes do not match\")\n",
    "    genome_length = len(genome_1)\n",
    "    slice_location = random.randint(1, genome_length - 1)\n",
    "    slice_a_1 = genome_1[:slice_location]\n",
    "    slice_a_2 = genome_1[slice_location:]\n",
    "    slice_b_1 = genome_2[:slice_location]\n",
    "    slice_b_2 = genome_2[slice_location:]\n",
    "    genome_1_new = slice_a_1 + slice_b_2\n",
    "    genome_2_new = slice_b_1 + slice_a_2\n",
    "    return genome_1_new, genome_2_new\n",
    "parents = ([0, 0, 0, 1, 1], [1, 0, 0, 1, 0])\n",
    "# single_point_crossover(parents)/\n",
    "print(single_point_crossover(parents))"
   ],
   "id": "2d1c53ca2c493858",
   "outputs": [
    {
     "name": "stdout",
     "output_type": "stream",
     "text": [
      "([0, 0, 0, 1, 0], [1, 0, 0, 1, 1])\n"
     ]
    }
   ],
   "execution_count": 1028
  },
  {
   "metadata": {
    "ExecuteTime": {
     "end_time": "2025-02-24T20:39:44.220406Z",
     "start_time": "2025-02-24T20:39:44.216362Z"
    }
   },
   "cell_type": "code",
   "source": "print(filtered_df[\"genome\"][0:2].values.tolist())",
   "id": "f33ca38895dcdf1",
   "outputs": [
    {
     "name": "stdout",
     "output_type": "stream",
     "text": [
      "[[0, 0, 0, 1, 1], [1, 0, 0, 1, 0]]\n"
     ]
    }
   ],
   "execution_count": 965
  }
 ],
 "metadata": {
  "kernelspec": {
   "display_name": "Python 3",
   "language": "python",
   "name": "python3"
  },
  "language_info": {
   "codemirror_mode": {
    "name": "ipython",
    "version": 2
   },
   "file_extension": ".py",
   "mimetype": "text/x-python",
   "name": "python",
   "nbconvert_exporter": "python",
   "pygments_lexer": "ipython2",
   "version": "2.7.6"
  }
 },
 "nbformat": 4,
 "nbformat_minor": 5
}
