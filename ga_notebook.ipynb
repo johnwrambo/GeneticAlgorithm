{
 "cells": [
  {
   "cell_type": "code",
   "id": "4b6dc3ca1d1e180f",
   "metadata": {
    "collapsed": true,
    "ExecuteTime": {
     "end_time": "2025-02-25T20:51:11.387637Z",
     "start_time": "2025-02-25T20:51:11.380852Z"
    }
   },
   "source": [
    "import random\n",
    "import matplotlib\n",
    "from datetime import datetime\n",
    "import time\n",
    "import pandas as pd\n",
    "import numpy as np\n",
    "from random import choices\n",
    "from matplotlib import pyplot as plt\n",
    "matplotlib.use('TkAgg')  # Use TkAgg instead of InterAgg\n",
    "\n",
    "# initial conditions\n",
    "note = \"without cache\"\n",
    "population = 60\n",
    "number_of_generations = 1000\n",
    "gen_cnt = 0\n",
    "weight_limit = 800  # Knapsack capacity\n",
    "\n",
    "knapsack_key = pd.DataFrame([\n",
    "    [300, 1200],  # High value, moderate weight\n",
    "    [150, 500],  # Good value-to-weight ratio\n",
    "    [85, 350],  # Light item, decent value\n",
    "    [105, 433],  # Moderate weight, solid value\n",
    "    [30, 192],  # Very light, low value\n",
    "    [400, 900],  # Heavy but valuable\n",
    "    [700, 1500],  # Very heavy, but high value\n",
    "    [250, 750],  # Balanced weight-to-value ratio\n",
    "    [500, 800],  # Medium-heavy, fair value\n",
    "    [50, 300]  # Lightweight, reasonable value\n",
    "], columns=[\"weight\", \"value\"])\n"
   ],
   "outputs": [],
   "execution_count": 178
  },
  {
   "metadata": {
    "ExecuteTime": {
     "end_time": "2025-02-25T20:51:11.396528Z",
     "start_time": "2025-02-25T20:51:11.388643Z"
    }
   },
   "cell_type": "code",
   "source": [
    "\n",
    "# decorators\n",
    "\n",
    "def populate(pop_size: int):\n",
    "    \"\"\"Decorator iterates the function into a list of the length of the input.\"\"\"\n",
    "\n",
    "    def decorator(func):\n",
    "        def wrapper(*args, **kwargs):\n",
    "            generation = [func(*args, **kwargs) for _ in range(pop_size)]\n",
    "            return generation\n",
    "\n",
    "        return wrapper\n",
    "\n",
    "    return decorator\n",
    "\n",
    "\n",
    "def log_time_results(pop:int, gen:int, weight:int, note:str):\n",
    "    \"\"\"Decorator that logs the execution time and run time of the function.\"\"\"\n",
    "\n",
    "    def decorator(func):\n",
    "        def wrapper(*args, **kwargs):\n",
    "            current_date_and_time = datetime.now()\n",
    "            start = time.time()\n",
    "            results = func(*args, **kwargs)\n",
    "            end = time.time()\n",
    "            total_time = end - start\n",
    "            with open(\"log.txt\", \"a\") as file:  # \"w\" mode creates or overwrites the file\n",
    "                file.write(\n",
    "                    f\"{current_date_and_time}-: {results} pop:{pop} gens:{gen} weight:{weight} - run time: {total_time:.2f}->{note}\\n\")\n",
    "            print(f\"Total run time: {total_time}\")\n",
    "            return results\n",
    "\n",
    "        return wrapper\n",
    "\n",
    "    return decorator"
   ],
   "id": "eade6c1c6275dbf0",
   "outputs": [],
   "execution_count": 179
  },
  {
   "metadata": {
    "ExecuteTime": {
     "end_time": "2025-02-25T20:51:11.405731Z",
     "start_time": "2025-02-25T20:51:11.399541Z"
    }
   },
   "cell_type": "code",
   "source": [
    "\n",
    "@populate(population)\n",
    "def generate_population(input_dataframe:object)->list:\n",
    "    \"\"\"takes as input the problem dataframe to be optimized and outputs an initial generation of random genomes.\n",
    "    Input: pandas dataframe\n",
    "    function converts length of the dataframe, which are the number of parameters to be solved for, into genomes of the same length. A decorator function will iterate this tasks according to the number of required generations.\n",
    "    Output: List of lists example: [0, 1, 0, 1]\"\"\"\n",
    "    genome_length = len(input_dataframe)\n",
    "    return choices([0, 1], k=genome_length)\n",
    "test_generation = generate_population(knapsack_key)\n",
    "print(test_generation)"
   ],
   "id": "dc5f8a8f53f4e4d5",
   "outputs": [
    {
     "name": "stdout",
     "output_type": "stream",
     "text": [
      "[[1, 1, 0, 1, 1, 0, 1, 1, 1, 1], [0, 1, 1, 1, 0, 1, 1, 1, 0, 0], [0, 1, 1, 0, 0, 0, 1, 0, 1, 0], [0, 1, 0, 0, 1, 0, 0, 0, 0, 0], [0, 0, 0, 0, 0, 0, 0, 1, 1, 0], [0, 0, 0, 1, 1, 1, 0, 1, 1, 1], [0, 1, 1, 0, 1, 0, 1, 0, 1, 1], [0, 1, 1, 0, 0, 0, 0, 0, 1, 0], [0, 1, 1, 1, 0, 1, 1, 1, 1, 0], [1, 1, 1, 1, 0, 0, 1, 1, 0, 1], [1, 0, 0, 0, 1, 0, 1, 0, 0, 0], [1, 0, 1, 0, 0, 1, 1, 0, 1, 1], [0, 1, 0, 1, 1, 1, 0, 1, 0, 0], [1, 1, 1, 1, 0, 0, 1, 0, 0, 1], [1, 1, 1, 0, 0, 1, 0, 0, 0, 0], [1, 1, 1, 0, 0, 0, 0, 1, 1, 0], [0, 0, 0, 0, 1, 0, 1, 0, 1, 1], [1, 1, 1, 1, 1, 1, 0, 1, 0, 1], [0, 0, 0, 1, 0, 1, 0, 0, 0, 1], [1, 1, 1, 1, 1, 1, 0, 1, 0, 0], [1, 0, 0, 1, 0, 1, 1, 1, 0, 0], [0, 0, 0, 1, 0, 0, 1, 1, 1, 0], [1, 1, 0, 0, 1, 0, 1, 1, 0, 1], [1, 0, 0, 0, 0, 0, 0, 1, 1, 1], [1, 0, 1, 1, 0, 1, 1, 1, 1, 1], [0, 0, 1, 0, 1, 0, 1, 1, 0, 0], [1, 0, 1, 0, 0, 1, 1, 1, 1, 0], [1, 0, 0, 1, 1, 1, 1, 1, 0, 0], [1, 0, 1, 0, 0, 0, 0, 0, 0, 1], [0, 1, 0, 1, 0, 1, 1, 0, 1, 0], [1, 0, 0, 0, 1, 0, 1, 1, 0, 0], [0, 0, 1, 1, 0, 1, 0, 0, 0, 0], [0, 0, 0, 1, 0, 1, 1, 1, 0, 0], [1, 0, 1, 1, 0, 1, 1, 0, 0, 0], [1, 0, 1, 1, 1, 0, 0, 0, 1, 0], [0, 1, 1, 1, 1, 0, 1, 1, 1, 0], [0, 0, 0, 0, 0, 1, 1, 1, 1, 0], [1, 0, 0, 1, 0, 1, 0, 1, 1, 1], [1, 0, 0, 0, 1, 1, 0, 0, 0, 1], [0, 0, 1, 0, 0, 1, 0, 0, 1, 0], [0, 1, 0, 0, 0, 1, 1, 1, 0, 0], [1, 0, 0, 0, 0, 0, 1, 0, 1, 1], [0, 1, 0, 1, 0, 1, 0, 1, 0, 0], [1, 0, 1, 0, 0, 1, 0, 1, 0, 0], [0, 1, 1, 0, 0, 1, 0, 0, 0, 0], [0, 1, 1, 0, 1, 1, 0, 1, 0, 0], [1, 0, 0, 0, 1, 1, 0, 0, 0, 0], [1, 1, 0, 0, 0, 1, 1, 1, 1, 0], [1, 0, 0, 0, 1, 0, 1, 0, 0, 1], [1, 0, 1, 0, 1, 1, 1, 0, 1, 0], [1, 1, 1, 1, 1, 1, 1, 0, 0, 1], [1, 1, 0, 1, 1, 0, 1, 1, 1, 0], [0, 1, 0, 1, 1, 0, 1, 1, 0, 0], [0, 1, 0, 1, 1, 0, 1, 1, 1, 1], [0, 1, 0, 0, 1, 0, 0, 1, 0, 0], [1, 1, 0, 1, 1, 1, 1, 1, 0, 1], [0, 0, 1, 1, 1, 0, 0, 0, 0, 1], [1, 1, 0, 1, 0, 1, 1, 0, 0, 1], [1, 1, 1, 1, 1, 0, 0, 1, 0, 0], [1, 1, 1, 0, 0, 0, 1, 0, 0, 1]]\n"
     ]
    }
   ],
   "execution_count": 180
  },
  {
   "metadata": {
    "ExecuteTime": {
     "end_time": "2025-02-25T20:51:11.446530Z",
     "start_time": "2025-02-25T20:51:11.407741Z"
    }
   },
   "cell_type": "code",
   "source": [
    "def cache(func):\n",
    "    def wrapper():\n",
    "        cache = {}\n",
    "        \n",
    "\n",
    "def evaluate_genome(input_dataframe:object, current_generation:list, constraint:int)->object:\n",
    "    \"\"\"takes as input the initial dataframe with the problem conditions, the constraint,\n",
    "    such as the weight limit, and a list of genomes. The function evaluates each gene in the genome and assigns weight\n",
    "    and value, and then determines if the genome is fit or not based on if it fits the constraint\n",
    "    :param input_dataframe: \n",
    "    :param current_generation: \n",
    "    :param constraint: \n",
    "    :return: dataframe\n",
    "    \"\"\"\n",
    "    fit_generation = {\"genome\": [], \"weight\": [], \"value\": [], \"is fit\": []}\n",
    "    for genome in current_generation:\n",
    "        genome_logic = np.array(genome).astype(bool)\n",
    "        weight = input_dataframe[genome_logic][\"weight\"].sum()\n",
    "        value = input_dataframe[genome_logic][\"value\"].sum()\n",
    "        if weight > constraint or value == 0:\n",
    "            is_fit = 0\n",
    "        else:\n",
    "            is_fit = 1\n",
    "        fit_generation[\"genome\"].append(genome)\n",
    "        fit_generation[\"weight\"].append(weight)\n",
    "        fit_generation[\"value\"].append(value)\n",
    "        fit_generation[\"is fit\"].append(is_fit)\n",
    "\n",
    "    return pd.DataFrame(fit_generation)\n",
    "\n",
    "evaluated_test_generation = evaluate_genome(knapsack_key, test_generation, weight_limit)\n",
    "print(evaluated_test_generation)"
   ],
   "id": "676640f0e4ec2f6b",
   "outputs": [
    {
     "name": "stdout",
     "output_type": "stream",
     "text": [
      "                            genome  weight  value  is fit\n",
      "0   [1, 1, 0, 1, 1, 0, 1, 1, 1, 1]    2085   5675       0\n",
      "1   [0, 1, 1, 1, 0, 1, 1, 1, 0, 0]    1690   4433       0\n",
      "2   [0, 1, 1, 0, 0, 0, 1, 0, 1, 0]    1435   3150       0\n",
      "3   [0, 1, 0, 0, 1, 0, 0, 0, 0, 0]     180    692       1\n",
      "4   [0, 0, 0, 0, 0, 0, 0, 1, 1, 0]     750   1550       1\n",
      "5   [0, 0, 0, 1, 1, 1, 0, 1, 1, 1]    1335   3375       0\n",
      "6   [0, 1, 1, 0, 1, 0, 1, 0, 1, 1]    1515   3642       0\n",
      "7   [0, 1, 1, 0, 0, 0, 0, 0, 1, 0]     735   1650       1\n",
      "8   [0, 1, 1, 1, 0, 1, 1, 1, 1, 0]    2190   5233       0\n",
      "9   [1, 1, 1, 1, 0, 0, 1, 1, 0, 1]    1640   5033       0\n",
      "10  [1, 0, 0, 0, 1, 0, 1, 0, 0, 0]    1030   2892       0\n",
      "11  [1, 0, 1, 0, 0, 1, 1, 0, 1, 1]    2035   5050       0\n",
      "12  [0, 1, 0, 1, 1, 1, 0, 1, 0, 0]     935   2775       0\n",
      "13  [1, 1, 1, 1, 0, 0, 1, 0, 0, 1]    1390   4283       0\n",
      "14  [1, 1, 1, 0, 0, 1, 0, 0, 0, 0]     935   2950       0\n",
      "15  [1, 1, 1, 0, 0, 0, 0, 1, 1, 0]    1285   3600       0\n",
      "16  [0, 0, 0, 0, 1, 0, 1, 0, 1, 1]    1280   2792       0\n",
      "17  [1, 1, 1, 1, 1, 1, 0, 1, 0, 1]    1370   4625       0\n",
      "18  [0, 0, 0, 1, 0, 1, 0, 0, 0, 1]     555   1633       1\n",
      "19  [1, 1, 1, 1, 1, 1, 0, 1, 0, 0]    1320   4325       0\n",
      "20  [1, 0, 0, 1, 0, 1, 1, 1, 0, 0]    1755   4783       0\n",
      "21  [0, 0, 0, 1, 0, 0, 1, 1, 1, 0]    1555   3483       0\n",
      "22  [1, 1, 0, 0, 1, 0, 1, 1, 0, 1]    1480   4442       0\n",
      "23  [1, 0, 0, 0, 0, 0, 0, 1, 1, 1]    1100   3050       0\n",
      "24  [1, 0, 1, 1, 0, 1, 1, 1, 1, 1]    2390   6233       0\n",
      "25  [0, 0, 1, 0, 1, 0, 1, 1, 0, 0]    1065   2792       0\n",
      "26  [1, 0, 1, 0, 0, 1, 1, 1, 1, 0]    2235   5500       0\n",
      "27  [1, 0, 0, 1, 1, 1, 1, 1, 0, 0]    1785   4975       0\n",
      "28  [1, 0, 1, 0, 0, 0, 0, 0, 0, 1]     435   1850       1\n",
      "29  [0, 1, 0, 1, 0, 1, 1, 0, 1, 0]    1855   4133       0\n",
      "30  [1, 0, 0, 0, 1, 0, 1, 1, 0, 0]    1280   3642       0\n",
      "31  [0, 0, 1, 1, 0, 1, 0, 0, 0, 0]     590   1683       1\n",
      "32  [0, 0, 0, 1, 0, 1, 1, 1, 0, 0]    1455   3583       0\n",
      "33  [1, 0, 1, 1, 0, 1, 1, 0, 0, 0]    1590   4383       0\n",
      "34  [1, 0, 1, 1, 1, 0, 0, 0, 1, 0]    1020   2975       0\n",
      "35  [0, 1, 1, 1, 1, 0, 1, 1, 1, 0]    1820   4525       0\n",
      "36  [0, 0, 0, 0, 0, 1, 1, 1, 1, 0]    1850   3950       0\n",
      "37  [1, 0, 0, 1, 0, 1, 0, 1, 1, 1]    1605   4383       0\n",
      "38  [1, 0, 0, 0, 1, 1, 0, 0, 0, 1]     780   2592       1\n",
      "39  [0, 0, 1, 0, 0, 1, 0, 0, 1, 0]     985   2050       0\n",
      "40  [0, 1, 0, 0, 0, 1, 1, 1, 0, 0]    1500   3650       0\n",
      "41  [1, 0, 0, 0, 0, 0, 1, 0, 1, 1]    1550   3800       0\n",
      "42  [0, 1, 0, 1, 0, 1, 0, 1, 0, 0]     905   2583       0\n",
      "43  [1, 0, 1, 0, 0, 1, 0, 1, 0, 0]    1035   3200       0\n",
      "44  [0, 1, 1, 0, 0, 1, 0, 0, 0, 0]     635   1750       1\n",
      "45  [0, 1, 1, 0, 1, 1, 0, 1, 0, 0]     915   2692       0\n",
      "46  [1, 0, 0, 0, 1, 1, 0, 0, 0, 0]     730   2292       1\n",
      "47  [1, 1, 0, 0, 0, 1, 1, 1, 1, 0]    2300   5650       0\n",
      "48  [1, 0, 0, 0, 1, 0, 1, 0, 0, 1]    1080   3192       0\n",
      "49  [1, 0, 1, 0, 1, 1, 1, 0, 1, 0]    2015   4942       0\n",
      "50  [1, 1, 1, 1, 1, 1, 1, 0, 0, 1]    1820   5375       0\n",
      "51  [1, 1, 0, 1, 1, 0, 1, 1, 1, 0]    2035   5375       0\n",
      "52  [0, 1, 0, 1, 1, 0, 1, 1, 0, 0]    1235   3375       0\n",
      "53  [0, 1, 0, 1, 1, 0, 1, 1, 1, 1]    1785   4475       0\n",
      "54  [0, 1, 0, 0, 1, 0, 0, 1, 0, 0]     430   1442       1\n",
      "55  [1, 1, 0, 1, 1, 1, 1, 1, 0, 1]    1985   5775       0\n",
      "56  [0, 0, 1, 1, 1, 0, 0, 0, 0, 1]     270   1275       1\n",
      "57  [1, 1, 0, 1, 0, 1, 1, 0, 0, 1]    1705   4833       0\n",
      "58  [1, 1, 1, 1, 1, 0, 0, 1, 0, 0]     920   3425       0\n",
      "59  [1, 1, 1, 0, 0, 0, 1, 0, 0, 1]    1285   3850       0\n"
     ]
    }
   ],
   "execution_count": 181
  },
  {
   "metadata": {
    "ExecuteTime": {
     "end_time": "2025-02-25T20:51:11.480425Z",
     "start_time": "2025-02-25T20:51:11.447539Z"
    }
   },
   "cell_type": "code",
   "source": [
    "\n",
    "def check_fitness(input_dataframe:object, current_generation:list, constraint:int, filtered: bool = True)->object:\n",
    "    \"\"\"takes as input the initial dataframe with the problem conditions, the constraint,\n",
    "    such as the weight limit, and a list of genomes to be evaluated\n",
    "    :param input_dataframe: \n",
    "    :param current_generation: \n",
    "    :param constraint: weight limit\n",
    "    :param filtered: A True boolean removed duplicates and resets the index\n",
    "    :return: a dataframe with only fit genomes\n",
    "    \"\"\"\n",
    "    filtered_df = evaluate_genome(input_dataframe, current_generation,constraint)\n",
    "    filtered_df = filtered_df[filtered_df[\"is fit\"] == 1]\n",
    "    filtered_df = filtered_df.sort_values(\"value\", ascending=False)\n",
    "    if filtered:\n",
    "        filtered_df = filtered_df.drop_duplicates(\"genome\")\n",
    "        filtered_df = filtered_df.reset_index(drop=True)\n",
    "    # max_value = filtered_df.value.values.max()\n",
    "    return filtered_df\n",
    "\n",
    "test_fitness_check = check_fitness(knapsack_key, test_generation, weight_limit)\n",
    "print(test_fitness_check)"
   ],
   "id": "5eca5fb2ebe5b0a0",
   "outputs": [
    {
     "name": "stdout",
     "output_type": "stream",
     "text": [
      "                            genome  weight  value  is fit\n",
      "0   [1, 0, 0, 0, 1, 1, 0, 0, 0, 1]     780   2592       1\n",
      "1   [1, 0, 0, 0, 1, 1, 0, 0, 0, 0]     730   2292       1\n",
      "2   [1, 0, 1, 0, 0, 0, 0, 0, 0, 1]     435   1850       1\n",
      "3   [0, 1, 1, 0, 0, 1, 0, 0, 0, 0]     635   1750       1\n",
      "4   [0, 0, 1, 1, 0, 1, 0, 0, 0, 0]     590   1683       1\n",
      "5   [0, 1, 1, 0, 0, 0, 0, 0, 1, 0]     735   1650       1\n",
      "6   [0, 0, 0, 1, 0, 1, 0, 0, 0, 1]     555   1633       1\n",
      "7   [0, 0, 0, 0, 0, 0, 0, 1, 1, 0]     750   1550       1\n",
      "8   [0, 1, 0, 0, 1, 0, 0, 1, 0, 0]     430   1442       1\n",
      "9   [0, 0, 1, 1, 1, 0, 0, 0, 0, 1]     270   1275       1\n",
      "10  [0, 1, 0, 0, 1, 0, 0, 0, 0, 0]     180    692       1\n"
     ]
    }
   ],
   "execution_count": 182
  },
  {
   "metadata": {
    "ExecuteTime": {
     "end_time": "2025-02-25T20:51:11.491784Z",
     "start_time": "2025-02-25T20:51:11.481437Z"
    }
   },
   "cell_type": "code",
   "source": [
    "def fitness_function(dataframe:object)->object:\n",
    "    \"\"\"Evaluates the current generation as a dataframe, then selects two parents using the roulette wheel\n",
    "    selection method.\n",
    "    :param current generation dataframe: \n",
    "    :return: parent dataframe: \n",
    "    \"\"\"\n",
    "    probability = [0] * (len(dataframe))\n",
    "    probability_total = [0] * (len(dataframe))\n",
    "    sum_values = dataframe.value.values.sum()\n",
    "    for i in dataframe.index:\n",
    "        probability[i] = float(dataframe.value[i] / sum_values)\n",
    "        probability_total[i] = float(sum(probability))\n",
    "    r1_select = 1; r2_select = 1\n",
    "    wheel = [0]\n",
    "    wheel = wheel + probability_total\n",
    "    r1 = random.randint(1, 100) / 100\n",
    "    r2 = random.randint(1, 100) / 100\n",
    "    for n, i in enumerate(probability_total):\n",
    "        if wheel[n] < r1 <= probability_total[n]:\n",
    "            r1_select = n\n",
    "        if wheel[n] < r2 <= probability_total[n]:\n",
    "            r2_select = n\n",
    "    filtered_df = dataframe.iloc[[r1_select, r2_select]]\n",
    "    parents = filtered_df.sort_values(\"value\", ascending=False).reset_index(drop=True)\n",
    "    return parents\n",
    "test_parents = fitness_function(test_fitness_check)\n",
    "print(test_parents)"
   ],
   "id": "4512dc6c0e0577c2",
   "outputs": [
    {
     "name": "stdout",
     "output_type": "stream",
     "text": [
      "                           genome  weight  value  is fit\n",
      "0  [0, 0, 1, 1, 0, 1, 0, 0, 0, 0]     590   1683       1\n",
      "1  [0, 0, 1, 1, 1, 0, 0, 0, 0, 1]     270   1275       1\n"
     ]
    }
   ],
   "execution_count": 183
  },
  {
   "metadata": {
    "ExecuteTime": {
     "end_time": "2025-02-25T20:51:11.530128Z",
     "start_time": "2025-02-25T20:51:11.523446Z"
    }
   },
   "cell_type": "code",
   "source": [
    "\n",
    "def single_point_crossover(parents_df:object)->tuple:\n",
    "    \"\"\"Takes as input a value pair of parents genomes and outputs two new offspring genomes\n",
    "    :param parents_df: \n",
    "    :return: \n",
    "    \"\"\"\n",
    "    parents = parents_df.genome.tolist()\n",
    "    genome_1, genome_2 = parents\n",
    "    if len(genome_1) != len(genome_2):\n",
    "        raise ValueError(\"Length of genomes do not match\")\n",
    "    genome_length = len(genome_1)\n",
    "    slice_location = random.randint(1, genome_length - 1)\n",
    "    slice_a_1 = genome_1[:slice_location]\n",
    "    slice_a_2 = genome_1[slice_location:]\n",
    "    slice_b_1 = genome_2[:slice_location]\n",
    "    slice_b_2 = genome_2[slice_location:]\n",
    "    offspring_1 = slice_a_1 + slice_b_2\n",
    "    offspring_2 = slice_b_1 + slice_a_2\n",
    "    return offspring_1, offspring_2\n",
    "test_offspring = single_point_crossover(test_parents)\n",
    "print(test_offspring)"
   ],
   "id": "d3abc1bb82454ea3",
   "outputs": [
    {
     "name": "stdout",
     "output_type": "stream",
     "text": [
      "([0, 0, 1, 1, 1, 0, 0, 0, 0, 1], [0, 0, 1, 1, 0, 1, 0, 0, 0, 0])\n"
     ]
    }
   ],
   "execution_count": 185
  },
  {
   "metadata": {
    "ExecuteTime": {
     "end_time": "2025-02-25T20:51:11.504436Z",
     "start_time": "2025-02-25T20:51:11.494796Z"
    }
   },
   "cell_type": "code",
   "source": [
    "def mutate(genome:list, probability:int=3, option:str=None)->list:\n",
    "    \"\"\"Takes as input one genome as a list and randomly mutates the genome based on the probability input\n",
    "    :param genome: list i.e. [1, 0, 1, 0, 1, 1, 0, 0, 0, 1]\n",
    "    :param probability: percentage as an integer\n",
    "    :param option: optional prompt for debugging\n",
    "    :return: genome as a list\n",
    "    \"\"\"\n",
    "    genome_length = len(genome)\n",
    "    mutate_roll = random.randint(1, 100)\n",
    "    if mutate_roll < probability:\n",
    "        mutate_index = random.randint(0, genome_length - 1)\n",
    "        if genome[mutate_index] == 0:\n",
    "            genome[mutate_index] = 1\n",
    "            if option is None:\n",
    "                return genome\n",
    "            elif option == \"declare\":\n",
    "                print(\"Mutated!\")\n",
    "                return genome\n",
    "        else:\n",
    "            genome[mutate_index] = 0\n",
    "            if option is None:\n",
    "                return genome\n",
    "            elif option == \"declare\":\n",
    "                print(\"Mutated!\")\n",
    "                return genome\n",
    "    else:\n",
    "        if option is None:\n",
    "            return genome\n",
    "        elif option == \"declare\":\n",
    "            print(\"Not mutated\")\n",
    "            return genome \n",
    "test_mutate = mutate(test_offspring[0],3,\"declare\")\n",
    "print(test_mutate)"
   ],
   "id": "da613224a7b03fff",
   "outputs": [
    {
     "name": "stdout",
     "output_type": "stream",
     "text": [
      "Not mutated\n",
      "[0, 0, 0, 1, 0, 0, 0, 0, 1, 0]\n"
     ]
    }
   ],
   "execution_count": 184
  },
  {
   "metadata": {
    "ExecuteTime": {
     "end_time": "2025-02-25T20:51:11.541524Z",
     "start_time": "2025-02-25T20:51:11.532139Z"
    }
   },
   "cell_type": "code",
   "source": [
    "def evolve(parents_df:object, population_size:int)->list:\n",
    "    \"\"\"Takes as the input a dataframe containing parent genomes and creates a new generation\n",
    "    :param parents_df: \n",
    "    :param population_size: \n",
    "    :return: \n",
    "    \"\"\"\n",
    "    population_size = int((population_size - 2) / 2) # two parents and the rest offspring\n",
    "    generation = parents_df.genome.tolist()\n",
    "    for i in range(population_size):\n",
    "        off_spring = single_point_crossover(parents_df) # single point crossover function\n",
    "        generation += [off_spring[0]] + [off_spring[1]]\n",
    "    return generation\n",
    "test_evolve = evolve(test_parents,population)\n",
    "print(test_evolve)\n",
    "print(len(test_evolve))\n",
    "print(type(test_evolve))"
   ],
   "id": "d11825a1d9d6baec",
   "outputs": [
    {
     "name": "stdout",
     "output_type": "stream",
     "text": [
      "[[0, 0, 1, 1, 0, 1, 0, 0, 0, 0], [0, 0, 1, 1, 1, 0, 0, 0, 0, 1], [0, 0, 1, 1, 1, 0, 0, 0, 0, 1], [0, 0, 1, 1, 0, 1, 0, 0, 0, 0], [0, 0, 1, 1, 1, 0, 0, 0, 0, 1], [0, 0, 1, 1, 0, 1, 0, 0, 0, 0], [0, 0, 1, 1, 0, 1, 0, 0, 0, 1], [0, 0, 1, 1, 1, 0, 0, 0, 0, 0], [0, 0, 1, 1, 0, 1, 0, 0, 0, 1], [0, 0, 1, 1, 1, 0, 0, 0, 0, 0], [0, 0, 1, 1, 0, 0, 0, 0, 0, 1], [0, 0, 1, 1, 1, 1, 0, 0, 0, 0], [0, 0, 1, 1, 0, 0, 0, 0, 0, 1], [0, 0, 1, 1, 1, 1, 0, 0, 0, 0], [0, 0, 1, 1, 0, 1, 0, 0, 0, 1], [0, 0, 1, 1, 1, 0, 0, 0, 0, 0], [0, 0, 1, 1, 0, 1, 0, 0, 0, 1], [0, 0, 1, 1, 1, 0, 0, 0, 0, 0], [0, 0, 1, 1, 1, 0, 0, 0, 0, 1], [0, 0, 1, 1, 0, 1, 0, 0, 0, 0], [0, 0, 1, 1, 1, 0, 0, 0, 0, 1], [0, 0, 1, 1, 0, 1, 0, 0, 0, 0], [0, 0, 1, 1, 1, 0, 0, 0, 0, 1], [0, 0, 1, 1, 0, 1, 0, 0, 0, 0], [0, 0, 1, 1, 0, 1, 0, 0, 0, 1], [0, 0, 1, 1, 1, 0, 0, 0, 0, 0], [0, 0, 1, 1, 0, 1, 0, 0, 0, 1], [0, 0, 1, 1, 1, 0, 0, 0, 0, 0], [0, 0, 1, 1, 0, 0, 0, 0, 0, 1], [0, 0, 1, 1, 1, 1, 0, 0, 0, 0], [0, 0, 1, 1, 0, 1, 0, 0, 0, 1], [0, 0, 1, 1, 1, 0, 0, 0, 0, 0], [0, 0, 1, 1, 0, 1, 0, 0, 0, 1], [0, 0, 1, 1, 1, 0, 0, 0, 0, 0], [0, 0, 1, 1, 1, 0, 0, 0, 0, 1], [0, 0, 1, 1, 0, 1, 0, 0, 0, 0], [0, 0, 1, 1, 1, 0, 0, 0, 0, 1], [0, 0, 1, 1, 0, 1, 0, 0, 0, 0], [0, 0, 1, 1, 0, 1, 0, 0, 0, 1], [0, 0, 1, 1, 1, 0, 0, 0, 0, 0], [0, 0, 1, 1, 0, 1, 0, 0, 0, 1], [0, 0, 1, 1, 1, 0, 0, 0, 0, 0], [0, 0, 1, 1, 0, 1, 0, 0, 0, 1], [0, 0, 1, 1, 1, 0, 0, 0, 0, 0], [0, 0, 1, 1, 1, 0, 0, 0, 0, 1], [0, 0, 1, 1, 0, 1, 0, 0, 0, 0], [0, 0, 1, 1, 1, 0, 0, 0, 0, 1], [0, 0, 1, 1, 0, 1, 0, 0, 0, 0], [0, 0, 1, 1, 0, 0, 0, 0, 0, 1], [0, 0, 1, 1, 1, 1, 0, 0, 0, 0], [0, 0, 1, 1, 0, 1, 0, 0, 0, 1], [0, 0, 1, 1, 1, 0, 0, 0, 0, 0], [0, 0, 1, 1, 0, 1, 0, 0, 0, 1], [0, 0, 1, 1, 1, 0, 0, 0, 0, 0], [0, 0, 1, 1, 0, 1, 0, 0, 0, 1], [0, 0, 1, 1, 1, 0, 0, 0, 0, 0], [0, 0, 1, 1, 0, 1, 0, 0, 0, 1], [0, 0, 1, 1, 1, 0, 0, 0, 0, 0], [0, 0, 1, 1, 0, 1, 0, 0, 0, 1], [0, 0, 1, 1, 1, 0, 0, 0, 0, 0]]\n",
      "60\n",
      "<class 'list'>\n"
     ]
    }
   ],
   "execution_count": 186
  },
  {
   "metadata": {
    "ExecuteTime": {
     "end_time": "2025-02-25T20:51:30.636403Z",
     "start_time": "2025-02-25T20:51:11.542535Z"
    }
   },
   "cell_type": "code",
   "source": [
    "\n",
    "@log_time_results(population, number_of_generations, weight_limit, note)\n",
    "def genetic_algorithm(input_dataframe:object, population_size:int, generations:int, weight_limit:int, options: str = None)->object:\n",
    "    \"\"\"Final implementation of the algorithm incorporating all the functions.\n",
    "    :param input_dataframe: \n",
    "    :param population_size: \n",
    "    :param generations: \n",
    "    :param weight_limit: \n",
    "    :param options: \n",
    "    :return: result dataframe\n",
    "    \"\"\"\n",
    "    first_generation = generate_population(input_dataframe)\n",
    "    current_generation = first_generation \n",
    "    solution_vec = []\n",
    "    for _ in range(generations):\n",
    "        unfit_removed = check_fitness(knapsack_key, current_generation, weight_limit) #<-------------Check Fitness Function\n",
    "        parents_df = fitness_function(unfit_removed)  #<-------------------------------Fitness Function selects parents\n",
    "        current_generation = evolve(parents_df, population_size) #<-------------Evolve Function creates new generation\n",
    "        solution_row = parents_df.loc[parents_df[\"value\"].idxmax()] #<---------------Stores selected parents\n",
    "        solution_vec.append(solution_row.genome)\n",
    "        for n, i in enumerate(current_generation):  \n",
    "            current_generation[n] = mutate(current_generation[n])  #<-------------Mutate Function iterates across generation \n",
    "    # final_generation = check_fitness(knapsack_key, current_generation, weight_limit, filtered=True)\n",
    "    \n",
    "    # Compiles results\n",
    "    solution_df = check_fitness(knapsack_key, solution_vec, weight_limit, filtered=True)\n",
    "    print(solution_df.sort_values(\"value\", ascending=False))\n",
    "    solution_vec = solution_df.value.tolist()\n",
    "    max_solution = solution_df.loc[solution_df[\"value\"].idxmax()]\n",
    "    weight = max_solution.weight\n",
    "    max_value = solution_df.value.values.max()\n",
    "    sol = [max_value.tolist(), weight.tolist()]\n",
    "    if options == \"plot\":\n",
    "        x_vec = range(0, len(solution_vec))\n",
    "        plt.plot(x_vec, solution_vec)\n",
    "        return sol, [x_vec, solution_vec]\n",
    "    return sol\n",
    "\n",
    "\n",
    "results_ga = genetic_algorithm(knapsack_key, population, number_of_generations, weight_limit,)\n",
    "print(f\"results: {results_ga}\")\n"
   ],
   "id": "initial_id",
   "outputs": [
    {
     "name": "stdout",
     "output_type": "stream",
     "text": [
      "                            genome  weight  value  is fit\n",
      "0   [1, 0, 1, 1, 0, 0, 0, 1, 0, 1]     790   3033       1\n",
      "1   [1, 1, 1, 1, 1, 0, 0, 0, 0, 1]     720   2975       1\n",
      "2   [1, 1, 0, 0, 1, 0, 0, 1, 0, 1]     780   2942       1\n",
      "3   [1, 0, 1, 1, 1, 0, 0, 1, 0, 0]     770   2925       1\n",
      "4   [1, 0, 0, 1, 1, 0, 0, 1, 0, 1]     735   2875       1\n",
      "..                             ...     ...    ...     ...\n",
      "77  [0, 1, 0, 1, 0, 0, 0, 0, 0, 1]     305   1233       1\n",
      "78  [1, 0, 0, 0, 0, 0, 0, 0, 0, 0]     300   1200       1\n",
      "79  [0, 0, 1, 1, 0, 0, 0, 0, 0, 1]     240   1083       1\n",
      "80  [0, 0, 0, 0, 0, 0, 0, 1, 0, 1]     300   1050       1\n",
      "81  [0, 1, 1, 0, 1, 0, 0, 0, 0, 0]     265   1042       1\n",
      "\n",
      "[82 rows x 4 columns]\n",
      "Total run time: 19.081667184829712\n",
      "results: [3033, 790]\n"
     ]
    }
   ],
   "execution_count": 187
  },
  {
   "metadata": {
    "ExecuteTime": {
     "end_time": "2025-02-25T20:51:30.641971Z",
     "start_time": "2025-02-25T20:51:30.638416Z"
    }
   },
   "cell_type": "code",
   "source": "",
   "id": "6ece54f1343d202c",
   "outputs": [],
   "execution_count": 187
  }
 ],
 "metadata": {
  "kernelspec": {
   "display_name": "Python 3",
   "language": "python",
   "name": "python3"
  },
  "language_info": {
   "codemirror_mode": {
    "name": "ipython",
    "version": 2
   },
   "file_extension": ".py",
   "mimetype": "text/x-python",
   "name": "python",
   "nbconvert_exporter": "python",
   "pygments_lexer": "ipython2",
   "version": "2.7.6"
  }
 },
 "nbformat": 4,
 "nbformat_minor": 5
}
